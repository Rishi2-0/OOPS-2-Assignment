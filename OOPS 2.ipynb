{
 "cells": [
  {
   "cell_type": "raw",
   "id": "aa7ed172-06a9-4d98-9986-0ebc010d271f",
   "metadata": {},
   "source": [
    "Q1. Explain Class and Object with respect to Object-Oriented Programming. Give a suitable example."
   ]
  },
  {
   "cell_type": "raw",
   "id": "b83f5cf1-6f5e-4231-9824-5a001a61ed31",
   "metadata": {},
   "source": [
    "In object-oriented programming (OOP), a class is a blueprint or a template for creating objects. It defines a set of attributes (data members) and behaviors (methods) that an object of that class can possess. The attributes represent the state or characteristics of the object, while the methods define the operations that the object can perform.\n",
    "\n",
    "A class provides the structure and definition of an object, but it does not hold any actual data or perform any actions itself. It serves as a blueprint from which multiple objects can be created. For example, a class called \"Car\" can define the attributes like \"color,\" \"make,\" and \"model,\" as well as methods like \"start,\" \"accelerate,\" and \"brake.\"\n",
    "\n",
    "On the other hand, an object is an instance of a class. It is a concrete representation of a class, created using the blueprint defined by the class. An object has its own unique identity and can have different values for the attributes defined by the class. For instance, if \"Car\" is a class, an object of that class could be a specific car with its color, make, and model.\n",
    "\n",
    "When an object is created from a class, it can access the attributes and methods defined in the class. Each object maintains its own state and can independently execute the methods defined in the class. Objects can interact with each other by invoking methods or accessing attributes of other objects.\n",
    "\n",
    "In summary, a class is a blueprint that defines the structure and behavior of objects, while an object is an instance of a class that represents a specific entity and can have its own state and behavior. Classes and objects are fundamental concepts in OOP and enable the creation of modular and reusable code."
   ]
  },
  {
   "cell_type": "raw",
   "id": "ff214000-ce68-44ad-8925-2108929e2e9a",
   "metadata": {},
   "source": [
    "Q2. Name the four pillars of OOPs."
   ]
  },
  {
   "cell_type": "markdown",
   "id": "42c7e8eb-b8ec-4598-9350-40a3a4eb4fdd",
   "metadata": {},
   "source": [
    "The four pillars of OOPS are encapsulation, inheritance, abstraction,polymorphism"
   ]
  },
  {
   "cell_type": "raw",
   "id": "14bef753-8dac-4d3a-a449-732592e4bd39",
   "metadata": {},
   "source": [
    "Q3. Explain why the __init__() function is used. Give a suitable example."
   ]
  },
  {
   "cell_type": "markdown",
   "id": "345577b3-35a3-4ad1-99d5-ffc64c1ef245",
   "metadata": {},
   "source": [
    " __init__() function is used as constructor to initialise it with data or values.\n",
    " \n",
    " class test :\n",
    "    \n",
    "    def test_fun(self,value):\n",
    "             self.value=value"
   ]
  },
  {
   "cell_type": "raw",
   "id": "ed0851f9-af35-4d07-a67f-0d3e3aac23df",
   "metadata": {},
   "source": [
    "Q4. Why self is used in OOPs?"
   ]
  },
  {
   "cell_type": "markdown",
   "id": "5eb57ebc-e9ec-4c07-8e0b-8f2c960ff2c2",
   "metadata": {},
   "source": [
    "In object-oriented programming (OOP), the self keyword is used as a reference to the current instance of a class. It is a convention used in many programming languages, such as Python.\n",
    "\n",
    "The self parameter is typically the first parameter in the method definition within a class. When a method is called on an object, the self parameter allows the method to access and manipulate the attributes and methods specific to that particular instance of the class.\n",
    "\n",
    "By using the self keyword, you establish a clear relationship between the methods and attributes of a class and the specific instance of that class. It helps in maintaining encapsulation and enables object-oriented programming principles like data hiding, polymorphism, and inheritance."
   ]
  }
 ],
 "metadata": {
  "kernelspec": {
   "display_name": "Python 3 (ipykernel)",
   "language": "python",
   "name": "python3"
  },
  "language_info": {
   "codemirror_mode": {
    "name": "ipython",
    "version": 3
   },
   "file_extension": ".py",
   "mimetype": "text/x-python",
   "name": "python",
   "nbconvert_exporter": "python",
   "pygments_lexer": "ipython3",
   "version": "3.10.8"
  }
 },
 "nbformat": 4,
 "nbformat_minor": 5
}
